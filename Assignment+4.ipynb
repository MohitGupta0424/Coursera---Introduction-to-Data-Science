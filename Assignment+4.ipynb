{
 "cells": [
  {
   "cell_type": "markdown",
   "metadata": {},
   "source": [
    "---\n",
    "\n",
    "_You are currently looking at **version 1.1** of this notebook. To download notebooks and datafiles, as well as get help on Jupyter notebooks in the Coursera platform, visit the [Jupyter Notebook FAQ](https://www.coursera.org/learn/python-data-analysis/resources/0dhYG) course resource._\n",
    "\n",
    "---"
   ]
  },
  {
   "cell_type": "code",
   "execution_count": 180,
   "metadata": {
    "collapsed": true
   },
   "outputs": [],
   "source": [
    "import pandas as pd\n",
    "import numpy as np\n",
    "from scipy.stats import ttest_ind"
   ]
  },
  {
   "cell_type": "markdown",
   "metadata": {},
   "source": [
    "# Assignment 4 - Hypothesis Testing\n",
    "This assignment requires more individual learning than previous assignments - you are encouraged to check out the [pandas documentation](http://pandas.pydata.org/pandas-docs/stable/) to find functions or methods you might not have used yet, or ask questions on [Stack Overflow](http://stackoverflow.com/) and tag them as pandas and python related. And of course, the discussion forums are open for interaction with your peers and the course staff.\n",
    "\n",
    "Definitions:\n",
    "* A _quarter_ is a specific three month period, Q1 is January through March, Q2 is April through June, Q3 is July through September, Q4 is October through December.\n",
    "* A _recession_ is defined as starting with two consecutive quarters of GDP decline, and ending with two consecutive quarters of GDP growth.\n",
    "* A _recession bottom_ is the quarter within a recession which had the lowest GDP.\n",
    "* A _university town_ is a city which has a high percentage of university students compared to the total population of the city.\n",
    "\n",
    "**Hypothesis**: University towns have their mean housing prices less effected by recessions. Run a t-test to compare the ratio of the mean price of houses in university towns the quarter before the recession starts compared to the recession bottom. (`price_ratio=quarter_before_recession/recession_bottom`)\n",
    "\n",
    "The following data files are available for this assignment:\n",
    "* From the [Zillow research data site](http://www.zillow.com/research/data/) there is housing data for the United States. In particular the datafile for [all homes at a city level](http://files.zillowstatic.com/research/public/City/City_Zhvi_AllHomes.csv), ```City_Zhvi_AllHomes.csv```, has median home sale prices at a fine grained level.\n",
    "* From the Wikipedia page on college towns is a list of [university towns in the United States](https://en.wikipedia.org/wiki/List_of_college_towns#College_towns_in_the_United_States) which has been copy and pasted into the file ```university_towns.txt```.\n",
    "* From Bureau of Economic Analysis, US Department of Commerce, the [GDP over time](http://www.bea.gov/national/index.htm#gdp) of the United States in current dollars (use the chained value in 2009 dollars), in quarterly intervals, in the file ```gdplev.xls```. For this assignment, only look at GDP data from the first quarter of 2000 onward.\n",
    "\n",
    "Each function in this assignment below is worth 10%, with the exception of ```run_ttest()```, which is worth 50%."
   ]
  },
  {
   "cell_type": "code",
   "execution_count": 181,
   "metadata": {
    "collapsed": true
   },
   "outputs": [],
   "source": [
    "# Use this dictionary to map state names to two letter acronyms\n",
    "states = {'OH': 'Ohio', 'KY': 'Kentucky', 'AS': 'American Samoa', 'NV': 'Nevada', 'WY': 'Wyoming', 'NA': 'National', 'AL': 'Alabama', 'MD': 'Maryland', 'AK': 'Alaska', 'UT': 'Utah', 'OR': 'Oregon', 'MT': 'Montana', 'IL': 'Illinois', 'TN': 'Tennessee', 'DC': 'District of Columbia', 'VT': 'Vermont', 'ID': 'Idaho', 'AR': 'Arkansas', 'ME': 'Maine', 'WA': 'Washington', 'HI': 'Hawaii', 'WI': 'Wisconsin', 'MI': 'Michigan', 'IN': 'Indiana', 'NJ': 'New Jersey', 'AZ': 'Arizona', 'GU': 'Guam', 'MS': 'Mississippi', 'PR': 'Puerto Rico', 'NC': 'North Carolina', 'TX': 'Texas', 'SD': 'South Dakota', 'MP': 'Northern Mariana Islands', 'IA': 'Iowa', 'MO': 'Missouri', 'CT': 'Connecticut', 'WV': 'West Virginia', 'SC': 'South Carolina', 'LA': 'Louisiana', 'KS': 'Kansas', 'NY': 'New York', 'NE': 'Nebraska', 'OK': 'Oklahoma', 'FL': 'Florida', 'CA': 'California', 'CO': 'Colorado', 'PA': 'Pennsylvania', 'DE': 'Delaware', 'NM': 'New Mexico', 'RI': 'Rhode Island', 'MN': 'Minnesota', 'VI': 'Virgin Islands', 'NH': 'New Hampshire', 'MA': 'Massachusetts', 'GA': 'Georgia', 'ND': 'North Dakota', 'VA': 'Virginia'}"
   ]
  },
  {
   "cell_type": "code",
   "execution_count": 182,
   "metadata": {
    "collapsed": true,
    "umich_part_id": "021",
    "umich_partlist_id": "004"
   },
   "outputs": [],
   "source": [
    "def get_list_of_university_towns():\n",
    "    '''Returns a DataFrame of towns and the states they are in from the \n",
    "    university_towns.txt list. The format of the DataFrame should be:\n",
    "    DataFrame( [ [\"Michigan\", \"Ann Arbor\"], [\"Michigan\", \"Yipsilanti\"] ], \n",
    "    columns=[\"State\", \"RegionName\"]  )\n",
    "    \n",
    "    The following cleaning needs to be done:\n",
    "\n",
    "    1. For \"State\", removing characters from \"[\" to the end.\n",
    "    2. For \"RegionName\", when applicable, removing every character from \" (\" to the end.\n",
    "    3. Depending on how you read the data, you may need to remove newline character '\\n'. '''\n",
    "    df = pd.read_csv(\"university_towns.txt\" , sep=\";\", header=None)\n",
    "    data =[]\n",
    "    stateName = \"\"\n",
    "    for i in range(df.shape[0]):\n",
    "        val = str(df.iloc[i])\n",
    "        if \"edit\" in val:\n",
    "            stateName = val.split(\"[\")[0][5:]\n",
    "        else:\n",
    "            region = val.split(\"(\")[0][1:].strip().split(\"\\n\")[0]\n",
    "            if region[len(region)-1] == ':' or region[len(region)-1] == ',':\n",
    "                region = region[:len(region)-1].strip()\n",
    "            elif region[len(region)-1] == '.':\n",
    "                region = region[:len(region)-21].strip()\n",
    "            data.append((stateName,region))\n",
    "    df_cleaned = pd.DataFrame(data, columns = [\"State\", \"RegionName\"])\n",
    "    return df_cleaned"
   ]
  },
  {
   "cell_type": "code",
   "execution_count": 183,
   "metadata": {
    "collapsed": true,
    "umich_part_id": "022",
    "umich_partlist_id": "004"
   },
   "outputs": [],
   "source": [
    "def get_recession_start():\n",
    "    '''Returns the year and quarter of the recession start time as a \n",
    "    string value in a format such as 2005q3'''\n",
    "    df = pd.read_excel(\"gdplev.xls\")\n",
    "    cols = [\"Quarterly(Seasonally adjusted annual rates)\",\"GDP in billions of current dollars\",\"GDP in billions of chained 2009 dollars\"]\n",
    "    df = df.iloc[219:,4:7]\n",
    "    df.columns = cols\n",
    "    df = df.loc[:,[\"Quarterly(Seasonally adjusted annual rates)\",\"GDP in billions of chained 2009 dollars\"]]\n",
    "    for i in range(df.shape[0]-2):\n",
    "        GDPValcurrent = df.iloc[i,1]\n",
    "        GDPValnext1 = df.iloc[i+1,1]\n",
    "        GDPValnext2 = df.iloc[i+2,1]\n",
    "        if(GDPValnext2 < GDPValnext1 and GDPValnext1 < GDPValcurrent):\n",
    "            index_val = df[df['GDP in billions of chained 2009 dollars']==GDPValnext1].index.values\n",
    "            output = df.loc[index_val][\"Quarterly(Seasonally adjusted annual rates)\"].values[0]\n",
    "            break\n",
    "    return output"
   ]
  },
  {
   "cell_type": "code",
   "execution_count": 184,
   "metadata": {
    "collapsed": true,
    "umich_part_id": "023",
    "umich_partlist_id": "004"
   },
   "outputs": [],
   "source": [
    "def get_recession_end():\n",
    "    '''Returns the year and quarter of the recession end time as a \n",
    "    string value in a format such as 2005q3'''\n",
    "    df = pd.read_excel(\"gdplev.xls\")\n",
    "    cols = [\"Quarterly(Seasonally adjusted annual rates)\",\"GDP in billions of current dollars\",\"GDP in billions of chained 2009 dollars\"]\n",
    "    df = df.iloc[252:,4:7]\n",
    "    df.columns = cols\n",
    "    df = df.loc[:,[\"Quarterly(Seasonally adjusted annual rates)\",\"GDP in billions of chained 2009 dollars\"]]\n",
    "    for i in range(df.shape[0]-2):\n",
    "        GDPValcurrent = df.iloc[i,1]\n",
    "        GDPValnext1 = df.iloc[i+1,1]\n",
    "        GDPValnext2 = df.iloc[i+2,1]\n",
    "        if(GDPValnext2 > GDPValnext1 and GDPValnext1 > GDPValcurrent):\n",
    "            index_val = df[df['GDP in billions of chained 2009 dollars']==GDPValnext2].index.values\n",
    "            output = df.loc[index_val][\"Quarterly(Seasonally adjusted annual rates)\"].values[0]\n",
    "            break\n",
    "    return output"
   ]
  },
  {
   "cell_type": "code",
   "execution_count": 185,
   "metadata": {
    "collapsed": true,
    "umich_part_id": "024",
    "umich_partlist_id": "004"
   },
   "outputs": [],
   "source": [
    "def get_recession_bottom():\n",
    "    '''Returns the year and quarter of the recession bottom time as a \n",
    "    string value in a format such as 2005q3'''\n",
    "    df = pd.read_excel(\"gdplev.xls\")\n",
    "    cols = [\"Quarterly(Seasonally adjusted annual rates)\",\"GDP in billions of current dollars\",\"GDP in billions of chained 2009 dollars\"]\n",
    "    recession_range = (252,258)\n",
    "    df = df.iloc[252:258,4:7]\n",
    "    df.columns = cols\n",
    "    df = df.loc[:,[\"Quarterly(Seasonally adjusted annual rates)\",\"GDP in billions of chained 2009 dollars\"]]\n",
    "    for i in range(df.shape[0]-2):\n",
    "        GDPValcurrent = df.iloc[i,1]\n",
    "        GDPValnext1 = df.iloc[i+1,1]\n",
    "        GDPValnext2 = df.iloc[i+2,1]\n",
    "        if(GDPValnext2 > GDPValnext1 and GDPValnext1 < GDPValcurrent):\n",
    "            index_val = df[df['GDP in billions of chained 2009 dollars']==GDPValnext1].index.values\n",
    "            output = df.loc[index_val][\"Quarterly(Seasonally adjusted annual rates)\"].values[0]\n",
    "    return output"
   ]
  },
  {
   "cell_type": "code",
   "execution_count": 186,
   "metadata": {
    "collapsed": true,
    "umich_part_id": "025",
    "umich_partlist_id": "004"
   },
   "outputs": [],
   "source": [
    "def convert_housing_data_to_quarters():\n",
    "    '''Converts the housing data to quarters and returns it as mean \n",
    "    values in a dataframe. This dataframe should be a dataframe with\n",
    "    columns for 2000q1 through 2016q3, and should have a multi-index\n",
    "    in the shape of [\"State\",\"RegionName\"].\n",
    "    \n",
    "    Note: Quarters are defined in the assignment description, they are\n",
    "    not arbitrary three month periods.\n",
    "    \n",
    "    The resulting dataframe should have 67 columns, and 10,730 rows.\n",
    "    '''\n",
    "    import pandas as pd\n",
    "    df = pd.read_csv(\"City_Zhvi_AllHomes.csv\")\n",
    "    cols = [\"State\",\"RegionName\"]\n",
    "    for i in df.columns[51:].tolist():\n",
    "        cols.append(i)\n",
    "    df = df.loc[:,cols]\n",
    "    quarterColumns = []\n",
    "    i = 2\n",
    "    while i < len(cols):\n",
    "        for j in range(3):\n",
    "            quarterColumns.append(cols[i][0:4]+\"q1\")\n",
    "        for j in range(3):\n",
    "            quarterColumns.append(cols[i][0:4]+\"q2\")\n",
    "        for j in range(3):\n",
    "            quarterColumns.append(cols[i][0:4]+\"q3\")\n",
    "        for j in range(3):\n",
    "            quarterColumns.append(cols[i][0:4]+\"q4\")\n",
    "        i += 12\n",
    "    region = [\"State\",\"RegionName\"]\n",
    "    quarterColumns = region + quarterColumns[:len(quarterColumns) - 4]\n",
    "    df.columns = quarterColumns\n",
    "    df1 = df.T.iloc[2:,:]\n",
    "    df1 = df1.reset_index().replace(np.NaN,0)\n",
    "    df1 = df1.groupby('index').mean().T\n",
    "    df = pd.concat([df.iloc[:,0:2], df1], axis=1)\n",
    "    df['State'] = [states[state] for state in df['State']]\n",
    "    df = df.set_index(region).replace(0,np.NaN)\n",
    "    return df"
   ]
  },
  {
   "cell_type": "code",
   "execution_count": 187,
   "metadata": {
    "umich_part_id": "026",
    "umich_partlist_id": "004"
   },
   "outputs": [
    {
     "data": {
      "text/plain": [
       "(True, 0.0021158846906012252, 'university town')"
      ]
     },
     "execution_count": 187,
     "metadata": {},
     "output_type": "execute_result"
    }
   ],
   "source": [
    "def run_ttest():\n",
    "    '''First creates new data showing the decline or growth of housing prices\n",
    "    between the recession start and the recession bottom. Then runs a ttest\n",
    "    comparing the university town values to the non-university towns values, \n",
    "    return whether the alternative hypothesis (that the two groups are the same)\n",
    "    is true or not as well as the p-value of the confidence. \n",
    "    \n",
    "    Return the tuple (different, p, better) where different=True if the t-test is\n",
    "    True at a p<0.01 (we reject the null hypothesis), or different=False if \n",
    "    otherwise (we cannot reject the null hypothesis). The variable p should\n",
    "    be equal to the exact p value returned from scipy.stats.ttest_ind(). The\n",
    "    value for better should be either \"university town\" or \"non-university town\"\n",
    "    depending on which has a lower mean price ratio (which is equivilent to a\n",
    "    reduced market loss).'''\n",
    "    universityTowns = get_list_of_university_towns()\n",
    "    rec_bottom = get_recession_bottom()\n",
    "    rec_start = get_recession_start()\n",
    "    df_house = convert_housing_data_to_quarters()\n",
    "    df_start = df_house.columns[df_house.columns.get_loc(rec_start) - 1]\n",
    "    df_house['ratio'] =  df_house[df_start] - df_house[rec_bottom]\n",
    "    df_house = df_house[[rec_bottom, df_start, 'ratio']]\n",
    "    df_house = df_house.reset_index()\n",
    "    unitowns_housedata = pd.merge(df_house,universityTowns,how='inner',on=['State','RegionName'])\n",
    "    unitowns_housedata['uni'] = True\n",
    "    df_house2 = pd.merge(df_house, unitowns_housedata, how='outer', on=['State','RegionName',rec_bottom, df_start, 'ratio'])\n",
    "    df_house2['uni'] = df_house2['uni'].fillna(False)\n",
    "    ut = df_house2[df_house2['uni'] == True]\n",
    "    nut = df_house2[df_house2['uni'] == False]\n",
    "    t,p = ttest_ind(ut['ratio'].dropna(), nut['ratio'].dropna())\n",
    "    different = True if p<0.01 else False\n",
    "    better = \"university town\" if ut['ratio'].mean() < nut['ratio'].mean() else \"non-university town\"\n",
    "    return(different, p, better)\n",
    "run_ttest()"
   ]
  },
  {
   "cell_type": "code",
   "execution_count": null,
   "metadata": {
    "collapsed": true
   },
   "outputs": [],
   "source": []
  }
 ],
 "metadata": {
  "coursera": {
   "course_slug": "python-data-analysis",
   "graded_item_id": "Il9Fx",
   "launcher_item_id": "TeDW0",
   "part_id": "WGlun"
  },
  "kernelspec": {
   "display_name": "Python 3",
   "language": "python",
   "name": "python3"
  },
  "language_info": {
   "codemirror_mode": {
    "name": "ipython",
    "version": 3
   },
   "file_extension": ".py",
   "mimetype": "text/x-python",
   "name": "python",
   "nbconvert_exporter": "python",
   "pygments_lexer": "ipython3",
   "version": "3.6.0"
  },
  "umich": {
   "id": "Assignment 4",
   "version": "1.1"
  }
 },
 "nbformat": 4,
 "nbformat_minor": 1
}
